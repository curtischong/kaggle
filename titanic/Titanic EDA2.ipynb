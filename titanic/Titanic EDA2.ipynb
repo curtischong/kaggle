{
 "cells": [
  {
   "cell_type": "code",
   "execution_count": 2,
   "metadata": {
    "collapsed": true
   },
   "outputs": [],
   "source": [
    "import pandas as pd\n",
    "data = pd.read_csv(\"train.csv\")"
   ]
  },
  {
   "cell_type": "code",
   "execution_count": 9,
   "metadata": {
    "scrolled": true
   },
   "outputs": [
    {
     "data": {
      "text/plain": [
       "0              687\n",
       "B96 B98          4\n",
       "C23 C25 C27      4\n",
       "G6               4\n",
       "F33              3\n",
       "F2               3\n",
       "C22 C26          3\n",
       "E101             3\n",
       "D                3\n",
       "D17              2\n",
       "C78              2\n",
       "B22              2\n",
       "C92              2\n",
       "E121             2\n",
       "E44              2\n",
       "B49              2\n",
       "F G73            2\n",
       "C52              2\n",
       "B5               2\n",
       "C68              2\n",
       "E24              2\n",
       "D26              2\n",
       "F4               2\n",
       "B51 B53 B55      2\n",
       "C124             2\n",
       "D36              2\n",
       "C125             2\n",
       "D35              2\n",
       "B58 B60          2\n",
       "E67              2\n",
       "              ... \n",
       "C95              1\n",
       "E31              1\n",
       "C99              1\n",
       "D49              1\n",
       "E12              1\n",
       "C110             1\n",
       "B82 B84          1\n",
       "C101             1\n",
       "D6               1\n",
       "B39              1\n",
       "C91              1\n",
       "D30              1\n",
       "C50              1\n",
       "E34              1\n",
       "B86              1\n",
       "B80              1\n",
       "A19              1\n",
       "C106             1\n",
       "B69              1\n",
       "T                1\n",
       "D9               1\n",
       "C30              1\n",
       "C90              1\n",
       "D56              1\n",
       "B94              1\n",
       "C46              1\n",
       "D19              1\n",
       "F38              1\n",
       "C47              1\n",
       "B37              1\n",
       "Name: Cabin, Length: 148, dtype: int64"
      ]
     },
     "execution_count": 9,
     "metadata": {},
     "output_type": "execute_result"
    }
   ],
   "source": [
    "data.Cabin.value_counts()"
   ]
  },
  {
   "cell_type": "code",
   "execution_count": 8,
   "metadata": {
    "collapsed": true
   },
   "outputs": [],
   "source": [
    "data.Cabin.fillna('0', inplace=True)"
   ]
  },
  {
   "cell_type": "code",
   "execution_count": null,
   "metadata": {
    "collapsed": true
   },
   "outputs": [],
   "source": [
    "asdsad"
   ]
  },
  {
   "cell_type": "code",
   "execution_count": null,
   "metadata": {
    "collapsed": true
   },
   "outputs": [],
   "source": [
    "asdasdasdsad"
   ]
  }
 ],
 "metadata": {
  "kernelspec": {
   "display_name": "Python 3",
   "language": "python",
   "name": "python3"
  },
  "language_info": {
   "codemirror_mode": {
    "name": "ipython",
    "version": 3
   },
   "file_extension": ".py",
   "mimetype": "text/x-python",
   "name": "python",
   "nbconvert_exporter": "python",
   "pygments_lexer": "ipython3",
   "version": "3.6.1"
  }
 },
 "nbformat": 4,
 "nbformat_minor": 2
}
