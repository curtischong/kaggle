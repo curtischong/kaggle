{
 "cells": [
  {
   "cell_type": "code",
   "execution_count": 108,
   "metadata": {
    "collapsed": true
   },
   "outputs": [],
   "source": [
    "#https://www.kaggle.com/baghern/a-deep-dive-into-sklearn-pipelines\n",
    "import numpy as np # linear algebra\n",
    "import pandas as pd # data processing, CSV file I/O (e.g. pd.read_csv)\n",
    "\n",
    "df = pd.read_csv('train.csv')\n",
    "test = pd.read_csv('test.csv')"
   ]
  },
  {
   "cell_type": "code",
   "execution_count": 109,
   "metadata": {},
   "outputs": [
    {
     "name": "stdout",
     "output_type": "stream",
     "text": [
      "b4 processing: 891\n",
      "aftr processing: 889\n"
     ]
    }
   ],
   "source": [
    "print(\"b4 processing: \" + str(len(df)))\n",
    "#sklearn.preprocessing doesn't like nan\n",
    "df = df.fillna(df['Age'].mode()[0])\n",
    "#this numberic value screwes things up. There are 2 rows that have this value\n",
    "df = df[df[\"Embarked\"] != 24.0]\n",
    "df = df.dropna()\n",
    "print(\"aftr processing: \" + str(len(df)))"
   ]
  },
  {
   "cell_type": "code",
   "execution_count": 110,
   "metadata": {
    "collapsed": true
   },
   "outputs": [],
   "source": [
    "# returns a DF that encodes the specified categorical variables.\n",
    "from sklearn.preprocessing import LabelEncoder\n",
    "def convertCat(aDFXVals,catCols):\n",
    "    anotherDF = aDFXVals[catCols].apply(LabelEncoder().fit_transform)\n",
    "    nonCatCols = aDFXVals.drop(catCols,axis=1)\n",
    "    result = pd.concat([nonCatCols, anotherDF], axis=1)\n",
    "    return result"
   ]
  },
  {
   "cell_type": "code",
   "execution_count": 134,
   "metadata": {
    "scrolled": true
   },
   "outputs": [],
   "source": [
    "features= [c for c in df.columns.values if c  not in ['PassengerId','Survived','Cabin','Name','Ticket']]\n",
    "\n",
    "newDF = convertCat(df[features],['Sex','Embarked'])"
   ]
  },
  {
   "cell_type": "code",
   "execution_count": 135,
   "metadata": {},
   "outputs": [],
   "source": [
    "from sklearn.ensemble import RandomForestClassifier\n",
    "from sklearn.pipeline import make_pipeline\n",
    "from sklearn.preprocessing import Imputer\n",
    "from sklearn.preprocessing import StandardScaler\n",
    "my_pipeline = make_pipeline(StandardScaler(), RandomForestClassifier())"
   ]
  },
  {
   "cell_type": "code",
   "execution_count": 145,
   "metadata": {},
   "outputs": [
    {
     "name": "stdout",
     "output_type": "stream",
     "text": [
      "[ 0.77777778  0.82094595  0.78040541]\n",
      "Mean Absolute Error 0.206957\n"
     ]
    }
   ],
   "source": [
    "from sklearn.model_selection import cross_val_score\n",
    "from sklearn.metrics import recall_score\n",
    "scoring = ['precision_macro', 'recall_macro']\n",
    "# the scoring function defaults to the one in the random forest classifier\n",
    "scores = cross_val_score(my_pipeline, newDF, df[\"Survived\"])\n",
    "print(scores)\n",
    "print('Mean Absolute Error %2f' %(1-scores.mean()))"
   ]
  },
  {
   "cell_type": "code",
   "execution_count": 114,
   "metadata": {},
   "outputs": [
    {
     "name": "stdout",
     "output_type": "stream",
     "text": [
      "b4 processing: 418\n",
      "aftr processing: 418\n"
     ]
    }
   ],
   "source": [
    "print(\"b4 processing: \" + str(len(test)))\n",
    "#sklearn.preprocessing doesn't like nan\n",
    "test = test.fillna(test['Age'].mode()[0])\n",
    "#this numberic value screwes things up. There are 2 rows that have this value\n",
    "test = test[test[\"Embarked\"] != 24.0]\n",
    "test = test.dropna()\n",
    "print(\"aftr processing: \" + str(len(test)))"
   ]
  },
  {
   "cell_type": "code",
   "execution_count": 128,
   "metadata": {},
   "outputs": [],
   "source": [
    "testDF = convertCat(test[features],['Sex','Embarked'])\n",
    "my_pipeline.fit(newDF,df[\"Survived\"])\n",
    "predictions = my_pipeline.predict(testDF)"
   ]
  },
  {
   "cell_type": "code",
   "execution_count": null,
   "metadata": {
    "collapsed": true
   },
   "outputs": [],
   "source": [
    "my_submission = pd.DataFrame({'PassengerId': test.PassengerId, 'Survived': predictions})\n",
    "# you could use any filename. We choose submission here\n",
    "my_submission.to_csv('submission_pipelines1.csv', index=False)"
   ]
  },
  {
   "cell_type": "code",
   "execution_count": null,
   "metadata": {
    "collapsed": true
   },
   "outputs": [],
   "source": [
    "#things to do:\n",
    "#1. cross val"
   ]
  }
 ],
 "metadata": {
  "kernelspec": {
   "display_name": "Python 3",
   "language": "python",
   "name": "python3"
  },
  "language_info": {
   "codemirror_mode": {
    "name": "ipython",
    "version": 3
   },
   "file_extension": ".py",
   "mimetype": "text/x-python",
   "name": "python",
   "nbconvert_exporter": "python",
   "pygments_lexer": "ipython3",
   "version": "3.6.1"
  }
 },
 "nbformat": 4,
 "nbformat_minor": 2
}
