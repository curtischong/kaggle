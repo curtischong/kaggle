{
 "cells": [
  {
   "cell_type": "code",
   "execution_count": 20,
   "metadata": {},
   "outputs": [],
   "source": [
    "import pandas as pd\n",
    "from bs4 import BeautifulSoup"
   ]
  },
  {
   "cell_type": "code",
   "execution_count": 34,
   "metadata": {
    "collapsed": true
   },
   "outputs": [],
   "source": [
    "biology = pd.read_csv(\"biology.csv\")\n",
    "cooking = pd.read_csv(\"cooking.csv\")\n",
    "crypto = pd.read_csv(\"crypto.csv\")\n",
    "diy = pd.read_csv(\"diy.csv\")\n",
    "robotics = pd.read_csv(\"robotics.csv\")\n",
    "test = pd.read_csv(\"test.csv\")\n",
    "travel = pd.read_csv(\"travel.csv\")"
   ]
  },
  {
   "cell_type": "markdown",
   "metadata": {},
   "source": [
    "My plan: go through every row and vectorize everything. bag of words baby."
   ]
  },
  {
   "cell_type": "code",
   "execution_count": 43,
   "metadata": {},
   "outputs": [],
   "source": [
    "#amazing code from http://www.grant-mckinnon.com/?p=17\n",
    "import re\n",
    "from nltk.stem import WordNetLemmatizer\n",
    "wordnet_lemmatizer = WordNetLemmatizer()\n",
    " \n",
    "def clean_txt(s):\n",
    "    if isinstance(s, str):\n",
    "        s = s.lower()\n",
    "        s = s.replace(\"//\",\" \")\n",
    "        s = s.replace(\"..\",\".\")\n",
    "        s = s.replace(\" / \",\" \")\n",
    "        s = s.replace(\"/\",\" \")\n",
    "        s = s.replace(\" \\\\ \",\" \")\n",
    "        s = s.replace(\".\",\" . \")\n",
    "        s = s.replace(\" . \",\" \")\n",
    "        s = s.replace(\"(\",\" \")\n",
    "        s = s.replace(\")\",\" \")\n",
    "        s = s.replace(\"\\n\",\" \")\n",
    "        s = s.replace(\" \",\" \")\n",
    "        s = re.sub(\"[^a-zA-Z]\",\" \", s)\n",
    "        s = (\" \").join([wordnet_lemmatizer.lemmatize(z) for z in s.split(\" \")])\n",
    "        return s\n",
    "    else:\n",
    "        return \"null\"\n",
    " "
   ]
  },
  {
   "cell_type": "code",
   "execution_count": 44,
   "metadata": {},
   "outputs": [],
   "source": [
    "biology.content = biology.content.map(lambda x: clean_txt(BeautifulSoup(x, \"html.parser\").text))\n",
    "cooking.content = cooking.content.map(lambda x: clean_txt(BeautifulSoup(x, \"html.parser\").text))\n",
    "crypto.content = crypto.content.map(lambda x: clean_txt(BeautifulSoup(x, \"html.parser\").text))\n",
    "diy.content = diy.content.map(lambda x: clean_txt(BeautifulSoup(x, \"html.parser\").text))\n",
    "robotics.content = robotics.content.map(lambda x: clean_txt(BeautifulSoup(x, \"html.parser\").text))\n",
    "test.content = test.content.map(lambda x: clean_txt(BeautifulSoup(x, \"html.parser\").text))\n",
    "travel.content = travel.content.map(lambda x: clean_txt(BeautifulSoup(x, \"html.parser\").text))"
   ]
  },
  {
   "cell_type": "code",
   "execution_count": 49,
   "metadata": {},
   "outputs": [
    {
     "data": {
      "text/html": [
       "<div>\n",
       "<style>\n",
       "    .dataframe thead tr:only-child th {\n",
       "        text-align: right;\n",
       "    }\n",
       "\n",
       "    .dataframe thead th {\n",
       "        text-align: left;\n",
       "    }\n",
       "\n",
       "    .dataframe tbody tr th {\n",
       "        vertical-align: top;\n",
       "    }\n",
       "</style>\n",
       "<table border=\"1\" class=\"dataframe\">\n",
       "  <thead>\n",
       "    <tr style=\"text-align: right;\">\n",
       "      <th></th>\n",
       "      <th>id</th>\n",
       "      <th>title</th>\n",
       "      <th>content</th>\n",
       "      <th>tags</th>\n",
       "    </tr>\n",
       "  </thead>\n",
       "  <tbody>\n",
       "  </tbody>\n",
       "</table>\n",
       "</div>"
      ],
      "text/plain": [
       "Empty DataFrame\n",
       "Columns: [id, title, content, tags]\n",
       "Index: []"
      ]
     },
     "execution_count": 49,
     "metadata": {},
     "output_type": "execute_result"
    }
   ],
   "source": [
    "#seems like this dataset is complete\n",
    "biology[biology.isnull().any(axis=1)]"
   ]
  }
 ],
 "metadata": {
  "kernelspec": {
   "display_name": "Python 3",
   "language": "python",
   "name": "python3"
  },
  "language_info": {
   "codemirror_mode": {
    "name": "ipython",
    "version": 3
   },
   "file_extension": ".py",
   "mimetype": "text/x-python",
   "name": "python",
   "nbconvert_exporter": "python",
   "pygments_lexer": "ipython3",
   "version": "3.6.1"
  }
 },
 "nbformat": 4,
 "nbformat_minor": 2
}
