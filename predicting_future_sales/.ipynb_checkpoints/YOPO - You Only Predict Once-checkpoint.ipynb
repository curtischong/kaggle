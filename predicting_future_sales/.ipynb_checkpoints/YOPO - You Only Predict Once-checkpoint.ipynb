{
 "cells": [
  {
   "cell_type": "code",
   "execution_count": 1,
   "metadata": {
    "collapsed": true
   },
   "outputs": [],
   "source": [
    "import numpy as np # linear algebra\n",
    "import pandas as pd # data processing, CSV file I/O (e.g. pd.read_csv)\n",
    "%matplotlib inline\n",
    "import matplotlib.pyplot as plt  # Matlab-style plotting\n",
    "import seaborn as sns\n",
    "color = sns.color_palette()\n",
    "sns.set_style('darkgrid')\n",
    "import warnings\n",
    "def ignore_warn(*args, **kwargs):\n",
    "    pass\n",
    "warnings.warn = ignore_warn #ignore annoying warning (from sklearn and seaborn)\n",
    "\n",
    "\n",
    "from scipy import stats\n",
    "from scipy.stats import norm, skew #for some statistics\n",
    "\n",
    "\n",
    "pd.set_option('display.float_format', lambda x: '{:.3f}'.format(x)) #Limiting floats output to 3 decimal points"
   ]
  },
  {
   "cell_type": "code",
   "execution_count": 2,
   "metadata": {
    "collapsed": true
   },
   "outputs": [],
   "source": [
    "train = pd.read_csv(\"input/sales_train.csv\")\n",
    "test = pd.read_csv(\"input/test.csv\")\n",
    "items = pd.read_csv(\"input/items.csv\")\n",
    "itemsCat = pd.read_csv(\"input/item_categories.csv\")\n",
    "shops = pd.read_csv(\"input/shops.csv\")\n",
    "test[\"date_block_num\"] = 34"
   ]
  },
  {
   "cell_type": "code",
   "execution_count": 3,
   "metadata": {
    "collapsed": true
   },
   "outputs": [],
   "source": [
    "import math\n",
    "def get_second(strings):\n",
    "    if isinstance(strings, str):\n",
    "        temp = strings.split(\" - \")\n",
    "        if len(temp) > 1:\n",
    "            return temp[1].strip()\n",
    "        return \"NA\"\n",
    "    return \"NA\"\n",
    "def get_first(strings):\n",
    "    if isinstance(strings, str):\n",
    "        temp = strings.split(\" - \")\n",
    "        return temp[0].strip()\n",
    "    return \"NA\""
   ]
  },
  {
   "cell_type": "code",
   "execution_count": 4,
   "metadata": {
    "collapsed": true
   },
   "outputs": [],
   "source": [
    "test = (test\n",
    " .merge(items, left_on='item_id', right_on='item_id', how='inner')\n",
    " .sort_values(\"item_id\")\n",
    " .merge(itemsCat, left_on='item_category_id', right_on='item_category_id', how='inner')\n",
    " .merge(shops, left_on='shop_id', right_on='shop_id', how='inner')\n",
    ")\n",
    "\n",
    "train = (train\n",
    " .merge(items, left_on='item_id', right_on='item_id', how='inner')\n",
    " .sort_values(\"item_id\")\n",
    " .merge(itemsCat, left_on='item_category_id', right_on='item_category_id', how='inner')\n",
    " .merge(shops, left_on='shop_id', right_on='shop_id', how='inner')\n",
    ")\n",
    "\n",
    "test = test.dropna()\n",
    "test[\"cat1\"] = test.item_category_name.map(lambda x: x.split(\" - \")[0].strip())\n",
    "test[\"cat2\"] = test.item_category_name.map(lambda x: get_second(x))\n",
    "\n",
    "train = train.dropna()\n",
    "train[\"cat1\"] = train.item_category_name.map(lambda x: x.split(\" - \")[0].strip())\n",
    "train[\"cat2\"] = train.item_category_name.map(lambda x: get_second(x))"
   ]
  },
  {
   "cell_type": "code",
   "execution_count": 5,
   "metadata": {},
   "outputs": [
    {
     "data": {
      "text/html": [
       "<div>\n",
       "<style>\n",
       "    .dataframe thead tr:only-child th {\n",
       "        text-align: right;\n",
       "    }\n",
       "\n",
       "    .dataframe thead th {\n",
       "        text-align: left;\n",
       "    }\n",
       "\n",
       "    .dataframe tbody tr th {\n",
       "        vertical-align: top;\n",
       "    }\n",
       "</style>\n",
       "<table border=\"1\" class=\"dataframe\">\n",
       "  <thead>\n",
       "    <tr style=\"text-align: right;\">\n",
       "      <th></th>\n",
       "      <th>item_cnt_day</th>\n",
       "      <th>date_block_num</th>\n",
       "      <th>shop_id</th>\n",
       "      <th>item_id</th>\n",
       "      <th>item_category_id</th>\n",
       "      <th>cat1</th>\n",
       "      <th>cat2</th>\n",
       "    </tr>\n",
       "  </thead>\n",
       "  <tbody>\n",
       "    <tr>\n",
       "      <th>0</th>\n",
       "      <td>1.000</td>\n",
       "      <td>20</td>\n",
       "      <td>54</td>\n",
       "      <td>0</td>\n",
       "      <td>40</td>\n",
       "      <td>Кино</td>\n",
       "      <td>DVD</td>\n",
       "    </tr>\n",
       "    <tr>\n",
       "      <th>1</th>\n",
       "      <td>1.000</td>\n",
       "      <td>19</td>\n",
       "      <td>54</td>\n",
       "      <td>2</td>\n",
       "      <td>40</td>\n",
       "      <td>Кино</td>\n",
       "      <td>DVD</td>\n",
       "    </tr>\n",
       "    <tr>\n",
       "      <th>2</th>\n",
       "      <td>1.000</td>\n",
       "      <td>22</td>\n",
       "      <td>54</td>\n",
       "      <td>2</td>\n",
       "      <td>40</td>\n",
       "      <td>Кино</td>\n",
       "      <td>DVD</td>\n",
       "    </tr>\n",
       "    <tr>\n",
       "      <th>3</th>\n",
       "      <td>1.000</td>\n",
       "      <td>18</td>\n",
       "      <td>54</td>\n",
       "      <td>3</td>\n",
       "      <td>40</td>\n",
       "      <td>Кино</td>\n",
       "      <td>DVD</td>\n",
       "    </tr>\n",
       "    <tr>\n",
       "      <th>4</th>\n",
       "      <td>1.000</td>\n",
       "      <td>19</td>\n",
       "      <td>54</td>\n",
       "      <td>3</td>\n",
       "      <td>40</td>\n",
       "      <td>Кино</td>\n",
       "      <td>DVD</td>\n",
       "    </tr>\n",
       "  </tbody>\n",
       "</table>\n",
       "</div>"
      ],
      "text/plain": [
       "   item_cnt_day  date_block_num  shop_id  item_id  item_category_id  cat1 cat2\n",
       "0         1.000              20       54        0                40  Кино  DVD\n",
       "1         1.000              19       54        2                40  Кино  DVD\n",
       "2         1.000              22       54        2                40  Кино  DVD\n",
       "3         1.000              18       54        3                40  Кино  DVD\n",
       "4         1.000              19       54        3                40  Кино  DVD"
      ]
     },
     "execution_count": 5,
     "metadata": {},
     "output_type": "execute_result"
    }
   ],
   "source": [
    "train = train.drop([\"item_name\",\"item_category_name\",\"shop_name\",\"date\",\"item_price\"],axis=1).head()\n",
    "train = train[[\"item_cnt_day\",\"date_block_num\",\"shop_id\",\"item_id\",\"item_category_id\",\"cat1\",\"cat2\"]]\n",
    "train.head()"
   ]
  },
  {
   "cell_type": "code",
   "execution_count": 6,
   "metadata": {},
   "outputs": [
    {
     "data": {
      "text/html": [
       "<div>\n",
       "<style>\n",
       "    .dataframe thead tr:only-child th {\n",
       "        text-align: right;\n",
       "    }\n",
       "\n",
       "    .dataframe thead th {\n",
       "        text-align: left;\n",
       "    }\n",
       "\n",
       "    .dataframe tbody tr th {\n",
       "        vertical-align: top;\n",
       "    }\n",
       "</style>\n",
       "<table border=\"1\" class=\"dataframe\">\n",
       "  <thead>\n",
       "    <tr style=\"text-align: right;\">\n",
       "      <th></th>\n",
       "      <th>ID</th>\n",
       "      <th>date_block_num</th>\n",
       "      <th>shop_id</th>\n",
       "      <th>item_id</th>\n",
       "      <th>item_category_id</th>\n",
       "      <th>cat1</th>\n",
       "      <th>cat2</th>\n",
       "    </tr>\n",
       "  </thead>\n",
       "  <tbody>\n",
       "    <tr>\n",
       "      <th>0</th>\n",
       "      <td>206587</td>\n",
       "      <td>34</td>\n",
       "      <td>39</td>\n",
       "      <td>30</td>\n",
       "      <td>40</td>\n",
       "      <td>Кино</td>\n",
       "      <td>DVD</td>\n",
       "    </tr>\n",
       "    <tr>\n",
       "      <th>1</th>\n",
       "      <td>204595</td>\n",
       "      <td>34</td>\n",
       "      <td>39</td>\n",
       "      <td>32</td>\n",
       "      <td>40</td>\n",
       "      <td>Кино</td>\n",
       "      <td>DVD</td>\n",
       "    </tr>\n",
       "    <tr>\n",
       "      <th>2</th>\n",
       "      <td>204528</td>\n",
       "      <td>34</td>\n",
       "      <td>39</td>\n",
       "      <td>64</td>\n",
       "      <td>40</td>\n",
       "      <td>Кино</td>\n",
       "      <td>DVD</td>\n",
       "    </tr>\n",
       "    <tr>\n",
       "      <th>3</th>\n",
       "      <td>204596</td>\n",
       "      <td>34</td>\n",
       "      <td>39</td>\n",
       "      <td>67</td>\n",
       "      <td>40</td>\n",
       "      <td>Кино</td>\n",
       "      <td>DVD</td>\n",
       "    </tr>\n",
       "    <tr>\n",
       "      <th>4</th>\n",
       "      <td>207082</td>\n",
       "      <td>34</td>\n",
       "      <td>39</td>\n",
       "      <td>72</td>\n",
       "      <td>40</td>\n",
       "      <td>Кино</td>\n",
       "      <td>DVD</td>\n",
       "    </tr>\n",
       "  </tbody>\n",
       "</table>\n",
       "</div>"
      ],
      "text/plain": [
       "       ID  date_block_num  shop_id  item_id  item_category_id  cat1 cat2\n",
       "0  206587              34       39       30                40  Кино  DVD\n",
       "1  204595              34       39       32                40  Кино  DVD\n",
       "2  204528              34       39       64                40  Кино  DVD\n",
       "3  204596              34       39       67                40  Кино  DVD\n",
       "4  207082              34       39       72                40  Кино  DVD"
      ]
     },
     "execution_count": 6,
     "metadata": {},
     "output_type": "execute_result"
    }
   ],
   "source": [
    "test = test.drop([\"item_name\",\"item_category_name\",\"shop_name\"],axis=1).head()\n",
    "test = test[[\"ID\",\"date_block_num\",\"shop_id\",\"item_id\",\"item_category_id\",\"cat1\",\"cat2\"]]\n",
    "test.head()"
   ]
  },
  {
   "cell_type": "code",
   "execution_count": 7,
   "metadata": {
    "collapsed": true
   },
   "outputs": [],
   "source": [
    "from sklearn.model_selection import train_test_split\n",
    "cols_to_use = [\"date_block_num\",\"shop_id\",\"item_id\",\"item_category_id\",\"cat1\",\"cat2\"]\n",
    "X = train[cols_to_use]\n",
    "y = train.item_cnt_day\n",
    "train_X, test_X, train_y, test_y = train_test_split(X, y)"
   ]
  },
  {
   "cell_type": "code",
   "execution_count": null,
   "metadata": {
    "collapsed": true
   },
   "outputs": [],
   "source": [
    "def convertCat(aDFXVals,catCols):\n",
    "    anotherDF = aDFXVals[catCols].apply(LabelEncoder().fit_transform)\n",
    "    nonCatCols = aDFXVals.drop(catCols,axis=1)\n",
    "    result = pd.concat([nonCatCols, anotherDF], axis=1)\n",
    "    return result"
   ]
  },
  {
   "cell_type": "code",
   "execution_count": null,
   "metadata": {
    "collapsed": true
   },
   "outputs": [],
   "source": [
    "from sklearn.preprocessing import OneHotEncoder\n",
    "from sklearn.preprocessing import LabelEncoder\n",
    "\n",
    "def oneHotEncodeDF(someDF, numericalCols = None, categoricalCols = None):\n",
    "    someDF[categoricalCols] = someDF[categoricalCols].apply(LabelEncoder().fit_transform)\n",
    "    someDF[numericalCols] = someDF[numericalCols].apply(OneHotEncoder().fit_transform)\n",
    "    someDF.drop(numericalCols,axis=1,inplace=True,errors=\"ignore\")\n",
    "    someDF.drop(categoricalCols,axis=1,inplace=True,errors=\"ignore\")\n",
    "    return someDF"
   ]
  },
  {
   "cell_type": "code",
   "execution_count": 8,
   "metadata": {},
   "outputs": [
    {
     "ename": "TypeError",
     "evalue": "object() takes no parameters",
     "output_type": "error",
     "traceback": [
      "\u001b[0;31m---------------------------------------------------------------------------\u001b[0m",
      "\u001b[0;31mTypeError\u001b[0m                                 Traceback (most recent call last)",
      "\u001b[0;32m<ipython-input-8-34ae8a83c423>\u001b[0m in \u001b[0;36m<module>\u001b[0;34m()\u001b[0m\n\u001b[1;32m      4\u001b[0m \u001b[0;32mfrom\u001b[0m \u001b[0msklearn\u001b[0m\u001b[0;34m.\u001b[0m\u001b[0mpreprocessing\u001b[0m \u001b[0;32mimport\u001b[0m \u001b[0mLabelEncoder\u001b[0m\u001b[0;34m\u001b[0m\u001b[0m\n\u001b[1;32m      5\u001b[0m \u001b[0;34m\u001b[0m\u001b[0m\n\u001b[0;32m----> 6\u001b[0;31m \u001b[0mmy_pipeline\u001b[0m \u001b[0;34m=\u001b[0m \u001b[0mmake_pipeline\u001b[0m\u001b[0;34m(\u001b[0m\u001b[0mLabelEncoder\u001b[0m\u001b[0;34m(\u001b[0m\u001b[0;34m[\u001b[0m\u001b[0;34m\"cat1\"\u001b[0m\u001b[0;34m,\u001b[0m\u001b[0;34m\"cat2\"\u001b[0m\u001b[0;34m]\u001b[0m\u001b[0;34m)\u001b[0m\u001b[0;34m,\u001b[0m \u001b[0mRandomForestRegressor\u001b[0m\u001b[0;34m(\u001b[0m\u001b[0;34m)\u001b[0m\u001b[0;34m)\u001b[0m\u001b[0;34m\u001b[0m\u001b[0m\n\u001b[0m",
      "\u001b[0;31mTypeError\u001b[0m: object() takes no parameters"
     ]
    }
   ],
   "source": [
    "from sklearn.ensemble import RandomForestRegressor\n",
    "from sklearn.pipeline import make_pipeline\n",
    "\n",
    "my_pipeline = make_pipeline(LabelEncoder([\"cat1\",\"cat2\"]), RandomForestRegressor())"
   ]
  },
  {
   "cell_type": "code",
   "execution_count": null,
   "metadata": {},
   "outputs": [],
   "source": [
    "my_pipeline.fit(train_X, train_y)\n",
    "predictions = my_pipeline.predict(test_X)"
   ]
  },
  {
   "cell_type": "code",
   "execution_count": null,
   "metadata": {
    "collapsed": true
   },
   "outputs": [],
   "source": []
  }
 ],
 "metadata": {
  "kernelspec": {
   "display_name": "Python 3",
   "language": "python",
   "name": "python3"
  },
  "language_info": {
   "codemirror_mode": {
    "name": "ipython",
    "version": 3
   },
   "file_extension": ".py",
   "mimetype": "text/x-python",
   "name": "python",
   "nbconvert_exporter": "python",
   "pygments_lexer": "ipython3",
   "version": "3.6.1"
  }
 },
 "nbformat": 4,
 "nbformat_minor": 2
}
